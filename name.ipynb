{
 "cells": [
  {
   "cell_type": "code",
   "execution_count": 1,
   "metadata": {},
   "outputs": [],
   "source": [
    "#自訂fuction先執行\n",
    "\n",
    "#定義屬性\n",
    "def get_element(pattern):\n",
    "    five = pattern % 10\n",
    "    if five == 1 or five == 2:\n",
    "        return '木'\n",
    "    elif five == 3 or five == 4:\n",
    "        return '火'\n",
    "    elif five == 5 or five == 6:\n",
    "        return '土'\n",
    "    elif five == 7 or five == 8:\n",
    "        return '金'\n",
    "    elif five ==9 or five == 0:\n",
    "        return '水'\n",
    "    \n",
    "#定義功能\n",
    "def get_mode(element1, element2):\n",
    "    if (element1, element2) in [('木','木'),('木','火'),('火','木'),('金','木'),('木','金')]:\n",
    "        return '木'\n",
    "    elif (element1, element2) in [('火','火'),('火','土'),('土','火'),('水','火'),('火','水')]:\n",
    "        return '火'\n",
    "    elif (element1, element2) in [('土','土'),('土','金'),('金','土'),('木','土'),('土','木')]:\n",
    "        return '土'\n",
    "    elif (element1, element2) in [('金','金'),('金','水'),('水','金'),('火','金'),('金','火')]:\n",
    "        return '金'\n",
    "    elif (element1, element2) in [('水','水'),('水','木'),('木','水'),('土','水'),('水','土')]:\n",
    "        return '水'\n",
    "\n",
    "#定義快慢\n",
    "def get_way(mode):\n",
    "    if mode in ['木','火']:\n",
    "        return '快'\n",
    "    elif mode in ['土','金','水']:\n",
    "        return '慢'\n",
    "    \n",
    "#定義內外向\n",
    "def get_innout(element_me, element_others):\n",
    "    if (element_me, element_others) in [('木','水'),('火','木'),('土','火'),('金','土'),('水','金'),('木','金'),('火','水'),('土','木'),('金','火'),('水','土')]:\n",
    "        return '內向'\n",
    "    if (element_me, element_others) in [('木','火'),('火','土'),('土','金'),('金','水'),('水','木'),('木','土'),('火','金'),('土','水'),('金','木'),('水','火')]:\n",
    "        return '外向'\n",
    "    if (element_me, element_others) in [('木','木'),('火','火'),('土','土'),('金','金'),('水','水')]:\n",
    "        return '平行'\n",
    "\n",
    "#取化氣數\n",
    "def digit_sum(number):\n",
    "    while number >= 10:\n",
    "        number = sum(int(digit) for digit in str(number))\n",
    "    return number"
   ]
  },
  {
   "cell_type": "code",
   "execution_count": 2,
   "metadata": {},
   "outputs": [
    {
     "name": "stdout",
     "output_type": "stream",
     "text": [
      "你的上格是16，五行屬土\n",
      "你的中格是24，五行屬火\n",
      "你的下格是24，五行屬火\n",
      "你的思想功能屬於火型人，外向關係，思考得快\n",
      "你的行動功能屬於火型人，平行關係，行動得快\n"
     ]
    }
   ],
   "source": [
    "#計算上中下格\n",
    "LN = int(input('請輸入姓氏的康熙筆劃數'))\n",
    "FN1 = int(input('請輸入名字第1個字的康熙筆劃數'))\n",
    "FN2 = int(input('請輸入名字的第2個字的康熙筆劃數'))\n",
    "\n",
    "up_pattern = int(1 + LN)\n",
    "mid_pattern = int(LN + FN1)\n",
    "down_pattern = int(FN1 + FN2)\n",
    "all_pattern = int(LN + FN1+ FN2)\n",
    "\n",
    "#判斷屬性\n",
    "up_element = get_element(up_pattern)\n",
    "mid_element = get_element(mid_pattern)\n",
    "down_element = get_element(down_pattern)\n",
    "\n",
    "print(f'你的上格是{up_pattern}，五行屬{up_element}')\n",
    "print(f'你的中格是{mid_pattern}，五行屬{mid_element}')\n",
    "print(f'你的下格是{down_pattern}，五行屬{down_element}')\n",
    "\n",
    "#判斷功能\n",
    "think_mode = get_mode(up_element, mid_element)\n",
    "act_mode = get_mode(mid_element, down_element)\n",
    "\n",
    "#判斷快慢\n",
    "think_way = get_way(think_mode)\n",
    "act_way =get_way(act_mode)\n",
    "\n",
    "#判斷內外向\n",
    "think_innout = get_innout(mid_element,up_element)\n",
    "act_innout = get_innout(mid_element,down_element)\n",
    "\n",
    "print(f'你的思想功能屬於{think_mode}型人，{think_innout}關係，思考得{think_way}')\n",
    "print(f'你的行動功能屬於{act_mode}型人，{act_innout}關係，行動得{act_way}')"
   ]
  },
  {
   "cell_type": "code",
   "execution_count": 22,
   "metadata": {},
   "outputs": [
    {
     "name": "stdout",
     "output_type": "stream",
     "text": [
      "4\n"
     ]
    }
   ],
   "source": [
    "#八卦氣\n",
    "\n",
    "#取得上下中總的化氣數\n",
    "up_digit = digit_sum(up_pattern)\n",
    "mid_digit = digit_sum(mid_pattern)\n",
    "down_digit = digit_sum(down_pattern)\n",
    "all_digit = digit_sum(all_pattern)\n",
    "\n",
    "#取得當年民國年的化氣數\n",
    "from datetime import datetime\n",
    "current_datetime = datetime.now()\n",
    "current_year = current_datetime.year - 1911\n",
    "year_digit = digit_sum(current_year)\n",
    "\n",
    "#數字為頭日子為尾的走路\n",
    "\n"
   ]
  },
  {
   "cell_type": "code",
   "execution_count": 12,
   "metadata": {},
   "outputs": [
    {
     "name": "stdout",
     "output_type": "stream",
     "text": [
      "10\n",
      "9\n",
      "您今年的十長生走臨官\n"
     ]
    }
   ],
   "source": [
    "#十長生\n",
    "\n",
    "#取得總格的餘數(十長生起點)\n",
    "tenyear_start = all_pattern % 10\n",
    "\n",
    "#取得年齡與年齡尾數(十長生要走幾步)\n",
    "from datetime import datetime\n",
    "current_datetime = datetime.now()\n",
    "current_year = current_datetime.year - 1911 #民國年\n",
    "birth_year = int(input('請輸入出生的民國年')) #出生年\n",
    "age = int(current_year - birth_year + 1) #年齡\n",
    "tenyear_go = age % 10 #年齡尾數\n",
    "\n",
    "if tenyear_go < all_digit:\n",
    "    tenyear_go += 10\n",
    "\n",
    "print(tenyear_go)\n",
    "print(tenyear_start)\n",
    "\n",
    "if tenyear_go - tenyear_start == 0:\n",
    "    tenyear = '冠帶'\n",
    "elif tenyear_go - tenyear_start == 1:\n",
    "    tenyear = '臨官'\n",
    "elif tenyear_go - tenyear_start == 2:\n",
    "    tenyear = '帝旺'\n",
    "elif tenyear_go - tenyear_start == 3:\n",
    "    tenyear = '衰'\n",
    "elif tenyear_go - tenyear_start == 4:\n",
    "    tenyear = '病'\n",
    "elif tenyear_go - tenyear_start == 5:\n",
    "    tenyear = '死'\n",
    "elif tenyear_go - tenyear_start == 6:\n",
    "    tenyear = '絕'\n",
    "elif tenyear_go - tenyear_start == 7:\n",
    "    tenyear = '胎'\n",
    "elif tenyear_go - tenyear_start == 8:\n",
    "    tenyear = '養'\n",
    "elif tenyear_go - tenyear_start == 9:\n",
    "    tenyear = '長生'    \n",
    "\n",
    "print(f'您今年的十長生走{tenyear}')"
   ]
  }
 ],
 "metadata": {
  "kernelspec": {
   "display_name": "Python 3",
   "language": "python",
   "name": "python3"
  },
  "language_info": {
   "codemirror_mode": {
    "name": "ipython",
    "version": 3
   },
   "file_extension": ".py",
   "mimetype": "text/x-python",
   "name": "python",
   "nbconvert_exporter": "python",
   "pygments_lexer": "ipython3",
   "version": "3.11.4"
  },
  "orig_nbformat": 4
 },
 "nbformat": 4,
 "nbformat_minor": 2
}
