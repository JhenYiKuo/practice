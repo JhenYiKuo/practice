{
 "cells": [
  {
   "cell_type": "code",
   "execution_count": 8,
   "metadata": {},
   "outputs": [
    {
     "data": {
      "text/plain": [
       "[36.96,\n",
       " 28.42,\n",
       " 34.39,\n",
       " 32.51,\n",
       " 28.81,\n",
       " 36.24,\n",
       " 30.65,\n",
       " 27.11,\n",
       " 26.17,\n",
       " 27.02,\n",
       " 29.26,\n",
       " 34.35,\n",
       " 24.84,\n",
       " 32.91,\n",
       " 30.61,\n",
       " 31.46,\n",
       " 32.98,\n",
       " 24.12,\n",
       " 35.65,\n",
       " 33.51,\n",
       " 34.06,\n",
       " 23.83,\n",
       " 27.16,\n",
       " 23.02,\n",
       " 26.93,\n",
       " 23.77,\n",
       " 32.87,\n",
       " 25.81,\n",
       " 32.14,\n",
       " 35.96,\n",
       " 37.52]"
      ]
     },
     "execution_count": 8,
     "metadata": {},
     "output_type": "execute_result"
    }
   ],
   "source": [
    "import random\n",
    "\n",
    "days = list(range(1,32))\n",
    "celsius = []\n",
    "for _ in range(31):\n",
    "    celsius.append(round(random.uniform(23,38),ndigits=2))\n",
    "celsius"
   ]
  }
 ],
 "metadata": {
  "kernelspec": {
   "display_name": "Python 3",
   "language": "python",
   "name": "python3"
  },
  "language_info": {
   "codemirror_mode": {
    "name": "ipython",
    "version": 3
   },
   "file_extension": ".py",
   "mimetype": "text/x-python",
   "name": "python",
   "nbconvert_exporter": "python",
   "pygments_lexer": "ipython3",
   "version": "3.11.4"
  },
  "orig_nbformat": 4
 },
 "nbformat": 4,
 "nbformat_minor": 2
}
