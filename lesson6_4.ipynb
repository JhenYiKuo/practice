{
 "cells": [
  {
   "cell_type": "code",
   "execution_count": 1,
   "metadata": {},
   "outputs": [],
   "source": [
    "#定義---def function的名稱(參數,參數)\n",
    "#呼叫---function的名稱(引數值,引數值)\n",
    "#優點:程式可以重複使用、簡化主程式、讓邏輯思考變簡單\n",
    "#定義完一定要執行一次\n",
    "\n",
    "def func1(para1:int,para2:int):\n",
    "    return para1 * para2 /2"
   ]
  },
  {
   "cell_type": "code",
   "execution_count": 4,
   "metadata": {},
   "outputs": [
    {
     "name": "stdout",
     "output_type": "stream",
     "text": [
      "25.0\n",
      "70.0\n",
      "50.0\n",
      "1575.0\n",
      "1326.0\n"
     ]
    }
   ],
   "source": [
    "#主程式\n",
    "print(func1(5, 10))\n",
    "print(func1(7, 20))\n",
    "print(func1(50, 2))\n",
    "print(func1(35, 90))\n",
    "print(func1(34, 78))"
   ]
  }
 ],
 "metadata": {
  "kernelspec": {
   "display_name": "Python 3",
   "language": "python",
   "name": "python3"
  },
  "language_info": {
   "codemirror_mode": {
    "name": "ipython",
    "version": 3
   },
   "file_extension": ".py",
   "mimetype": "text/x-python",
   "name": "python",
   "nbconvert_exporter": "python",
   "pygments_lexer": "ipython3",
   "version": "3.10.4"
  },
  "orig_nbformat": 4
 },
 "nbformat": 4,
 "nbformat_minor": 2
}
