{
 "cells": [
  {
   "cell_type": "code",
   "execution_count": 15,
   "metadata": {},
   "outputs": [
    {
     "name": "stdout",
     "output_type": "stream",
     "text": [
      "直角三角形的角度為：51.057558731018624度\n"
     ]
    }
   ],
   "source": [
    "import math\n",
    "n = float(input(\"請輸入斜邊：\"))\n",
    "m = float(input(\"請輸入對邊：\"))\n",
    "radion = math.asin(m / n)\n",
    "degree = math.degrees(radion)\n",
    "#字串插補\n",
    "print(f'直角三角形的角度為：{degree}度')"
   ]
  },
  {
   "cell_type": "code",
   "execution_count": 24,
   "metadata": {},
   "outputs": [
    {
     "data": {
      "text/plain": [
       "True"
      ]
     },
     "execution_count": 24,
     "metadata": {},
     "output_type": "execute_result"
    }
   ],
   "source": [
    "7 == 7"
   ]
  },
  {
   "cell_type": "code",
   "execution_count": 45,
   "metadata": {},
   "outputs": [
    {
     "name": "stdout",
     "output_type": "stream",
     "text": [
      "學生總分是：300\n"
     ]
    }
   ],
   "source": [
    "#單項選擇\n",
    "scores = int(input('請輸入學生分數((最高300分):'))\n",
    "is_add = input('學生是否符合加分條件？(y,n)')\n",
    "\n",
    "if is_add == 'y':\n",
    "    scores = scores +scores * 0.05\n",
    "\n",
    "if scores > 300:\n",
    "    scores = 300\n",
    "\n",
    "print(f'學生總分是：{scores}')"
   ]
  },
  {
   "cell_type": "code",
   "execution_count": 56,
   "metadata": {},
   "outputs": [
    {
     "name": "stdout",
     "output_type": "stream",
     "text": [
      "及格\n",
      "很優\n"
     ]
    }
   ],
   "source": [
    "#雙項選擇\n",
    "chinese = int(input('請輸入學生國文分數:'))\n",
    "if chinese < 60:\n",
    "    print('不及格')\n",
    "else:\n",
    "    print('及格')\n",
    "    if chinese < 80:\n",
    "        print('優')\n",
    "    else:\n",
    "        print('很優')"
   ]
  }
 ],
 "metadata": {
  "kernelspec": {
   "display_name": "Python 3",
   "language": "python",
   "name": "python3"
  },
  "language_info": {
   "codemirror_mode": {
    "name": "ipython",
    "version": 3
   },
   "file_extension": ".py",
   "mimetype": "text/x-python",
   "name": "python",
   "nbconvert_exporter": "python",
   "pygments_lexer": "ipython3",
   "version": "3.10.4"
  },
  "orig_nbformat": 4
 },
 "nbformat": 4,
 "nbformat_minor": 2
}
