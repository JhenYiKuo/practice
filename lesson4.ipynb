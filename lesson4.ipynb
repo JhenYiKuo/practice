{
 "cells": [
  {
   "cell_type": "code",
   "execution_count": 15,
   "metadata": {},
   "outputs": [
    {
     "name": "stdout",
     "output_type": "stream",
     "text": [
      "直角三角形的角度為：51.057558731018624度\n"
     ]
    }
   ],
   "source": [
    "import math\n",
    "n = float(input(\"請輸入斜邊：\"))\n",
    "m = float(input(\"請輸入對邊：\"))\n",
    "radion = math.asin(m / n)\n",
    "degree = math.degrees(radion)\n",
    "#字串插補\n",
    "print(f'直角三角形的角度為：{degree}度')"
   ]
  },
  {
   "cell_type": "code",
   "execution_count": 24,
   "metadata": {},
   "outputs": [
    {
     "data": {
      "text/plain": [
       "True"
      ]
     },
     "execution_count": 24,
     "metadata": {},
     "output_type": "execute_result"
    }
   ],
   "source": [
    "7 == 7"
   ]
  },
  {
   "cell_type": "code",
   "execution_count": 45,
   "metadata": {},
   "outputs": [
    {
     "name": "stdout",
     "output_type": "stream",
     "text": [
      "學生總分是：300\n"
     ]
    }
   ],
   "source": [
    "#單項選擇\n",
    "scores = int(input('請輸入學生分數((最高300分):'))\n",
    "is_add = input('學生是否符合加分條件？(y,n)')\n",
    "\n",
    "if is_add == 'y':\n",
    "    scores = scores +scores * 0.05\n",
    "\n",
    "if scores > 300:\n",
    "    scores = 300\n",
    "\n",
    "print(f'學生總分是：{scores}')"
   ]
  },
  {
   "cell_type": "code",
   "execution_count": 88,
   "metadata": {},
   "outputs": [
    {
     "name": "stdout",
     "output_type": "stream",
     "text": [
      "優\n"
     ]
    }
   ],
   "source": [
    "#雙項選擇\n",
    "chinese = int(input('請輸入學生國文分數:'))\n",
    "if chinese < 60:\n",
    "    print('不及格')\n",
    "else:\n",
    "    if chinese < 80:\n",
    "        print('優')\n",
    "    else:\n",
    "        print('很優')"
   ]
  },
  {
   "cell_type": "code",
   "execution_count": 91,
   "metadata": {},
   "outputs": [
    {
     "name": "stdout",
     "output_type": "stream",
     "text": [
      "甲\n"
     ]
    }
   ],
   "source": [
    "score = int(input('請輸入分數'))\n",
    "if score >= 90:\n",
    "    print('優')\n",
    "else:\n",
    "    if score >= 80:\n",
    "        print('甲')\n",
    "    else:\n",
    "        if score >= 70:\n",
    "            print('乙')\n",
    "        else:\n",
    "            if score >= 60:\n",
    "                print('丙')\n",
    "            else:\n",
    "                print('丁')"
   ]
  },
  {
   "cell_type": "code",
   "execution_count": 95,
   "metadata": {},
   "outputs": [
    {
     "name": "stdout",
     "output_type": "stream",
     "text": [
      "甲\n"
     ]
    }
   ],
   "source": [
    "#以elif改寫上一則為多項選擇\n",
    "score = int(input('請輸入分數'))\n",
    "if score >= 90:\n",
    "    print('優')\n",
    "elif score >= 80:\n",
    "    print('甲')\n",
    "elif score >= 70:\n",
    "    print('乙')\n",
    "elif score >= 60:\n",
    "    print('丙')\n",
    "else:\n",
    "    print('丁')"
   ]
  }
 ],
 "metadata": {
  "kernelspec": {
   "display_name": "Python 3",
   "language": "python",
   "name": "python3"
  },
  "language_info": {
   "codemirror_mode": {
    "name": "ipython",
    "version": 3
   },
   "file_extension": ".py",
   "mimetype": "text/x-python",
   "name": "python",
   "nbconvert_exporter": "python",
   "pygments_lexer": "ipython3",
   "version": "3.10.4"
  },
  "orig_nbformat": 4
 },
 "nbformat": 4,
 "nbformat_minor": 2
}
