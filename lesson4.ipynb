{
 "cells": [
  {
   "cell_type": "code",
   "execution_count": 3,
   "metadata": {},
   "outputs": [
    {
     "name": "stdout",
     "output_type": "stream",
     "text": [
      "直角三角形的角度為：38.68218745348944度\n"
     ]
    }
   ],
   "source": [
    "import math\n",
    "n = float(input(\"請輸入斜邊：\"))\n",
    "m = float(input(\"請輸入對邊：\"))\n",
    "radion = math.asin(m / n)\n",
    "degree = math.degrees(radion)\n",
    "#字串插補\n",
    "print(f'直角三角形的角度為：{degree}度')"
   ]
  },
  {
   "cell_type": "code",
   "execution_count": 24,
   "metadata": {},
   "outputs": [
    {
     "data": {
      "text/plain": [
       "True"
      ]
     },
     "execution_count": 24,
     "metadata": {},
     "output_type": "execute_result"
    }
   ],
   "source": [
    "7 == 7"
   ]
  },
  {
   "cell_type": "code",
   "execution_count": 45,
   "metadata": {},
   "outputs": [
    {
     "name": "stdout",
     "output_type": "stream",
     "text": [
      "學生總分是：300\n"
     ]
    }
   ],
   "source": [
    "#單項選擇\n",
    "scores = int(input('請輸入學生分數((最高300分):'))\n",
    "is_add = input('學生是否符合加分條件？(y,n)')\n",
    "\n",
    "if is_add == 'y':\n",
    "    scores = scores +scores * 0.05\n",
    "\n",
    "if scores > 300:\n",
    "    scores = 300\n",
    "\n",
    "print(f'學生總分是：{scores}')"
   ]
  },
  {
   "cell_type": "code",
   "execution_count": 88,
   "metadata": {},
   "outputs": [
    {
     "name": "stdout",
     "output_type": "stream",
     "text": [
      "優\n"
     ]
    }
   ],
   "source": [
    "#雙項選擇\n",
    "chinese = int(input('請輸入學生國文分數:'))\n",
    "if chinese < 60:\n",
    "    print('不及格')\n",
    "else:\n",
    "    if chinese < 80:\n",
    "        print('優')\n",
    "    else:\n",
    "        print('很優')"
   ]
  },
  {
   "cell_type": "code",
   "execution_count": 91,
   "metadata": {},
   "outputs": [
    {
     "name": "stdout",
     "output_type": "stream",
     "text": [
      "甲\n"
     ]
    }
   ],
   "source": [
    "score = int(input('請輸入分數'))\n",
    "if score >= 90:\n",
    "    print('優')\n",
    "else:\n",
    "    if score >= 80:\n",
    "        print('甲')\n",
    "    else:\n",
    "        if score >= 70:\n",
    "            print('乙')\n",
    "        else:\n",
    "            if score >= 60:\n",
    "                print('丙')\n",
    "            else:\n",
    "                print('丁')"
   ]
  },
  {
   "cell_type": "code",
   "execution_count": 95,
   "metadata": {},
   "outputs": [
    {
     "name": "stdout",
     "output_type": "stream",
     "text": [
      "甲\n"
     ]
    }
   ],
   "source": [
    "#以elif改寫上一則為多項選擇\n",
    "score = int(input('請輸入分數'))\n",
    "if score >= 90:\n",
    "    print('優')\n",
    "elif score >= 80:\n",
    "    print('甲')\n",
    "elif score >= 70:\n",
    "    print('乙')\n",
    "elif score >= 60:\n",
    "    print('丙')\n",
    "else:\n",
    "    print('丁')"
   ]
  },
  {
   "cell_type": "code",
   "execution_count": 101,
   "metadata": {},
   "outputs": [
    {
     "name": "stdout",
     "output_type": "stream",
     "text": [
      "中文100分\n"
     ]
    }
   ],
   "source": [
    "#not用法\n",
    "chinese = 100\n",
    "if not chinese == 100:\n",
    "    print('中文沒有100分')\n",
    "else:\n",
    "    print('中文100分')"
   ]
  },
  {
   "cell_type": "code",
   "execution_count": 109,
   "metadata": {},
   "outputs": [
    {
     "name": "stdout",
     "output_type": "stream",
     "text": [
      "獎金1000元\n"
     ]
    }
   ],
   "source": [
    "#邏輯運算子\n",
    "chinese = 100\n",
    "english = 100\n",
    "if chinese == 100 and english == 100:\n",
    "    print('獎金1000元')\n",
    "elif chinese ==100 or english ==100:\n",
    "    print('獎金500元')\n",
    "else:\n",
    "    print('獎金0元')"
   ]
  },
  {
   "cell_type": "code",
   "execution_count": 122,
   "metadata": {},
   "outputs": [
    {
     "name": "stdout",
     "output_type": "stream",
     "text": [
      "4\n",
      "9\n",
      "14\n",
      "19\n",
      "24\n",
      "29\n",
      "34\n",
      "39\n",
      "44\n",
      "49\n",
      "54\n",
      "59\n",
      "64\n",
      "69\n",
      "74\n",
      "79\n"
     ]
    }
   ],
   "source": [
    "#明確知道要執行幾次 for 自訂變數 in range()\n",
    "for i in range(4,82,5):\n",
    "    print(i)"
   ]
  },
  {
   "cell_type": "code",
   "execution_count": 1,
   "metadata": {},
   "outputs": [
    {
     "name": "stdout",
     "output_type": "stream",
     "text": [
      "1-100相加的總和為5050\n"
     ]
    }
   ],
   "source": [
    "#計算1-100相加的值\n",
    "result = 0\n",
    "for i in range(1,101):\n",
    "    result = result + i\n",
    "print(f'1-100相加的總和為{result}')"
   ]
  },
  {
   "cell_type": "code",
   "execution_count": null,
   "metadata": {},
   "outputs": [],
   "source": [
    "#不知道要執行幾次 while"
   ]
  }
 ],
 "metadata": {
  "kernelspec": {
   "display_name": "Python 3",
   "language": "python",
   "name": "python3"
  },
  "language_info": {
   "codemirror_mode": {
    "name": "ipython",
    "version": 3
   },
   "file_extension": ".py",
   "mimetype": "text/x-python",
   "name": "python",
   "nbconvert_exporter": "python",
   "pygments_lexer": "ipython3",
   "version": "3.10.4"
  },
  "orig_nbformat": 4
 },
 "nbformat": 4,
 "nbformat_minor": 2
}
