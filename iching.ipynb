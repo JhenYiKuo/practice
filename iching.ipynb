{
 "cells": [
  {
   "cell_type": "code",
   "execution_count": null,
   "metadata": {},
   "outputs": [],
   "source": [
    "#計算洗牌次數(整除為洗12次)\n",
    "day1 = int(input('請輸入今天的國曆日期'))\n",
    "day2 = int(input('請輸入你的國曆生日日期'))\n",
    "\n",
    "if day1 % 12 == 0 and day2 % 12 == 0:\n",
    "    times = 24\n",
    "elif day1 % 12 == 0 or day2 % 12 == 0:\n",
    "    times = day1 % 12 + day2 % 12 + 12\n",
    "else:\n",
    "    times = day1 % 12 + day2 % 12\n",
    "\n",
    "print(f'洗牌次數為 {times} 次')"
   ]
  },
  {
   "cell_type": "code",
   "execution_count": 13,
   "metadata": {},
   "outputs": [
    {
     "name": "stdout",
     "output_type": "stream",
     "text": [
      "你的易經姓名卦，上爻為坤地、下爻為艮山，五爻動\n"
     ]
    }
   ],
   "source": [
    "#易經姓名卦\n",
    "LN = int(input('請輸入姓氏的教育部筆劃數'))\n",
    "FN1 = int(input('請輸入名字第1個字的教育部筆劃數'))\n",
    "FN2 = int(input('請輸入名字的第2個字的教育部筆劃數'))\n",
    "\n",
    "up_num = int(LN)\n",
    "down_num = int(FN1 + FN2)\n",
    "change_num = int(LN+FN1+FN2)\n",
    "\n",
    "def get_hexagram(num):\n",
    "    hexagram = num % 8\n",
    "    if hexagram == 1:\n",
    "        return '乾天'\n",
    "    elif hexagram == 2:\n",
    "        return '兌澤'\n",
    "    elif hexagram == 3:\n",
    "        return '離火'\n",
    "    elif hexagram == 4:\n",
    "        return '震雷'\n",
    "    elif hexagram == 5:\n",
    "        return '巽風'\n",
    "    elif hexagram == 6:\n",
    "        return '坎水'\n",
    "    elif hexagram == 7:\n",
    "        return '艮山'\n",
    "    elif hexagram == 0:\n",
    "        return '坤地'\n",
    "\n",
    "def get_change(num):\n",
    "    change = change_num % 6\n",
    "    if change == 1:\n",
    "        return '初'\n",
    "    elif change == 2:\n",
    "        return '二'\n",
    "    elif change == 3:\n",
    "        return '三'\n",
    "    elif change == 4:\n",
    "        return '四'\n",
    "    elif change == 5:\n",
    "        return '五'\n",
    "    elif change == 0:\n",
    "        return '上'\n",
    "\n",
    "up_hexagram = get_hexagram(up_num)\n",
    "down_hexagram = get_hexagram(down_num)\n",
    "change_hexagram = get_change(change_num)\n",
    "\n",
    "print(f'你的易經姓名卦，上爻為{up_hexagram}、下爻為{down_hexagram}，{change_hexagram}爻動')\n"
   ]
  }
 ],
 "metadata": {
  "kernelspec": {
   "display_name": "Python 3",
   "language": "python",
   "name": "python3"
  },
  "language_info": {
   "codemirror_mode": {
    "name": "ipython",
    "version": 3
   },
   "file_extension": ".py",
   "mimetype": "text/x-python",
   "name": "python",
   "nbconvert_exporter": "python",
   "pygments_lexer": "ipython3",
   "version": "3.10.4"
  },
  "orig_nbformat": 4
 },
 "nbformat": 4,
 "nbformat_minor": 2
}
