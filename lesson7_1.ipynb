{
 "cells": [
  {
   "cell_type": "markdown",
   "metadata": {},
   "source": [
    "資料結構<br>\n",
    "tuple(暫時使用，儲存多個值)<br>\n",
    "    1.建立後不可以改變內容<br>\n",
    "    2.不能新增、編輯、刪除<br>\n",
    "    3.通常用於別人傳資料給你<br>\n",
    "list<br>\n",
    "dictionart<br>\n",
    "set<br>"
   ]
  },
  {
   "cell_type": "code",
   "execution_count": 9,
   "metadata": {},
   "outputs": [],
   "source": [
    "#建立tuple\n",
    "#fuction要傳出資料用return\n",
    "\n",
    "def get_tuple():\n",
    "    return (503,'error')"
   ]
  },
  {
   "cell_type": "code",
   "execution_count": 10,
   "metadata": {},
   "outputs": [
    {
     "name": "stdout",
     "output_type": "stream",
     "text": [
      "503\n",
      "error\n"
     ]
    }
   ],
   "source": [
    "#tuple拆解法，呼叫別人的資料，建立變數\n",
    "(code, messege) = get_tuple()\n",
    "print(code)\n",
    "print(messege)"
   ]
  },
  {
   "cell_type": "code",
   "execution_count": 11,
   "metadata": {},
   "outputs": [
    {
     "data": {
      "text/plain": [
       "(404,)"
      ]
     },
     "execution_count": 11,
     "metadata": {},
     "output_type": "execute_result"
    }
   ],
   "source": [
    "#1個元素的tuple\n",
    "(404,)"
   ]
  }
 ],
 "metadata": {
  "kernelspec": {
   "display_name": "Python 3",
   "language": "python",
   "name": "python3"
  },
  "language_info": {
   "codemirror_mode": {
    "name": "ipython",
    "version": 3
   },
   "file_extension": ".py",
   "mimetype": "text/x-python",
   "name": "python",
   "nbconvert_exporter": "python",
   "pygments_lexer": "ipython3",
   "version": "3.10.4"
  },
  "orig_nbformat": 4
 },
 "nbformat": 4,
 "nbformat_minor": 2
}
