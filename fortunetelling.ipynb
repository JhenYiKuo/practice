{
 "cells": [
  {
   "cell_type": "code",
   "execution_count": 9,
   "metadata": {},
   "outputs": [
    {
     "name": "stdout",
     "output_type": "stream",
     "text": [
      "洗牌次數為 7 次\n"
     ]
    }
   ],
   "source": [
    "#計算洗牌次數\n",
    "day1 = int(input('請輸入今天的國曆日期'))\n",
    "day2 = int(input('請輸入你的國曆生日日期'))\n",
    "times = day1 %12 + day2 % 12\n",
    "print(f'洗牌次數為 {times} 次')"
   ]
  },
  {
   "cell_type": "code",
   "execution_count": 20,
   "metadata": {},
   "outputs": [
    {
     "name": "stdout",
     "output_type": "stream",
     "text": [
      "你的上格是16\n",
      "你的中格是24\n",
      "你的下格是24\n",
      "木\n"
     ]
    }
   ],
   "source": [
    "#計算上中下格\n",
    "#LN = int(input('請輸入姓氏的康熙筆劃數'))\n",
    "#FN1 = int(input('請輸入名字第1個字的康熙筆劃數'))\n",
    "#FN2 = int(input('請輸入名字的第2個字的康熙筆劃數'))\n",
    "\n",
    "LN = 15\n",
    "FN1 = 9\n",
    "FN2 = 15\n",
    "\n",
    "up_pattern = int(1 + LN)\n",
    "mid_pattern = int(LN + FN1)\n",
    "down_pattern = int(FN1 + FN2)\n",
    "\n",
    "print(f'你的上格是{up_pattern}')\n",
    "print(f'你的中格是{mid_pattern}')\n",
    "print(f'你的下格是{down_pattern}')\n",
    "\n",
    "#計算屬性\n",
    "up_five = up_pattern % 10\n",
    "if up_five == 1 or 2:\n",
    "    print('木')\n",
    "elif up_five == 3 or 4:\n",
    "    print('火')\n",
    "elif up_five == 5 or 6:\n",
    "    print('土')\n",
    "elif up_five == 7 or 8:\n",
    "    print('金')\n",
    "else:\n",
    "    print('水')"
   ]
  }
 ],
 "metadata": {
  "kernelspec": {
   "display_name": "Python 3",
   "language": "python",
   "name": "python3"
  },
  "language_info": {
   "codemirror_mode": {
    "name": "ipython",
    "version": 3
   },
   "file_extension": ".py",
   "mimetype": "text/x-python",
   "name": "python",
   "nbconvert_exporter": "python",
   "pygments_lexer": "ipython3",
   "version": "3.10.4"
  },
  "orig_nbformat": 4
 },
 "nbformat": 4,
 "nbformat_minor": 2
}
