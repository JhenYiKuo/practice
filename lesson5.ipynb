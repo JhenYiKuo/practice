{
 "cells": [
  {
   "cell_type": "markdown",
   "metadata": {},
   "source": [
    "1.如果太久沒有開codespace，他會發信給你、刪除你的檔案\n",
    "2.如果直接把codespace刪掉，再重新打開，他會幫你把既有的程式碼搬進新的codespace中\n",
    "3.下載VScode，用VScode去connet to CodeSpace，而且要先下載GitHubCodeSpace的套件（電腦會還原要記得上版）"
   ]
  },
  {
   "cell_type": "code",
   "execution_count": null,
   "metadata": {},
   "outputs": [],
   "source": []
  }
 ],
 "metadata": {
  "kernelspec": {
   "display_name": "Python 3",
   "language": "python",
   "name": "python3"
  },
  "language_info": {
   "codemirror_mode": {
    "name": "ipython",
    "version": 3
   },
   "file_extension": ".py",
   "mimetype": "text/x-python",
   "name": "python",
   "nbconvert_exporter": "python",
   "pygments_lexer": "ipython3",
   "version": "3.10.4"
  },
  "orig_nbformat": 4
 },
 "nbformat": 4,
 "nbformat_minor": 2
}
