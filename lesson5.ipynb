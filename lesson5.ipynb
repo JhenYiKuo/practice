{
 "cells": [
  {
   "cell_type": "markdown",
   "metadata": {},
   "source": [
    "1.如果太久沒有開codespace，他會發信給你、刪除你的檔案\n",
    "2.如果直接把codespace刪掉，再重新打開，他會幫你把既有的程式碼搬進新的codespace中\n",
    "3.下載VScode，用VScode去connet to CodeSpace，而且要先下載GitHubCodeSpace的套件（電腦會還原要記得上版）"
   ]
  },
  {
   "cell_type": "code",
   "execution_count": 10,
   "metadata": {},
   "outputs": [
    {
     "name": "stdout",
     "output_type": "stream",
     "text": [
      "1-100相加的總和為5050\n"
     ]
    }
   ],
   "source": [
    "#計算1-100相加的值\n",
    "result = 0\n",
    "for i in range(1,101):\n",
    "    result = result + i\n",
    "print(f'1-100相加的總和為{result}')"
   ]
  },
  {
   "cell_type": "code",
   "execution_count": 18,
   "metadata": {},
   "outputs": [
    {
     "name": "stdout",
     "output_type": "stream",
     "text": [
      "3\n",
      "5\n",
      "7\n",
      "9\n",
      "11\n",
      "13\n"
     ]
    }
   ],
   "source": [
    "#for 自訂變數 in iterable（可一個一個依序讀取）\n",
    "#包含range、list、dictionary、set\n",
    "#range(1,10)，不包含後面的10\n",
    "#forin函數裡面要有東西，沒有的話要給一個pass\n",
    "\n",
    "for i in range(3,15,2):\n",
    "    print(i)    "
   ]
  },
  {
   "cell_type": "code",
   "execution_count": 50,
   "metadata": {},
   "outputs": [
    {
     "name": "stdout",
     "output_type": "stream",
     "text": [
      "1*1=1 1*2=2 1*3=3 1*4=4 1*5=5 1*6=6 1*7=7 1*8=8 1*9=9 \n",
      "\n",
      "2*1=2 2*2=4 2*3=6 2*4=8 2*5=10 2*6=12 2*7=14 2*8=16 2*9=18 \n",
      "\n",
      "3*1=3 3*2=6 3*3=9 3*4=12 3*5=15 3*6=18 3*7=21 3*8=24 3*9=27 \n",
      "\n",
      "4*1=4 4*2=8 4*3=12 4*4=16 4*5=20 4*6=24 4*7=28 4*8=32 4*9=36 \n",
      "\n",
      "5*1=5 5*2=10 5*3=15 5*4=20 5*5=25 5*6=30 5*7=35 5*8=40 5*9=45 \n",
      "\n",
      "6*1=6 6*2=12 6*3=18 6*4=24 6*5=30 6*6=36 6*7=42 6*8=48 6*9=54 \n",
      "\n",
      "7*1=7 7*2=14 7*3=21 7*4=28 7*5=35 7*6=42 7*7=49 7*8=56 7*9=63 \n",
      "\n",
      "8*1=8 8*2=16 8*3=24 8*4=32 8*5=40 8*6=48 8*7=56 8*8=64 8*9=72 \n",
      "\n",
      "9*1=9 9*2=18 9*3=27 9*4=36 9*5=45 9*6=54 9*7=63 9*8=72 9*9=81 \n",
      "\n"
     ]
    }
   ],
   "source": [
    "#巢狀迴圈\n",
    "#想要把\\n印出來，可以在'前加一個r\n",
    "for i in range(1,10):\n",
    "    #print(f'i={i}')\n",
    "    for j in range(1,10):\n",
    "        print(f'{i}*{j}={i*j}',end=' ')\n",
    "    print('\\n')"
   ]
  },
  {
   "cell_type": "code",
   "execution_count": 1,
   "metadata": {},
   "outputs": [
    {
     "name": "stdout",
     "output_type": "stream",
     "text": [
      "已經存夠了，存了2個月，存了31000元\n"
     ]
    }
   ],
   "source": [
    "#小明想要存錢買一輛機車，機車3萬元，每月存入的錢輸入，當存款購買機車時，顯示提示訊息\n",
    "#不知道要執行幾次用while迴圈\n",
    "#while 布林值（比較運算子、邏輯運算子）\n",
    "#注意不要變成無限迴圈：建立要比較的變數→比較變數→改變變數的值\n",
    "#複合指定運算子+=\n",
    "deposit = 0\n",
    "months = 0\n",
    "while(deposit<30000):\n",
    "    months += 1\n",
    "    value = int(input(f'請輸入第{months}月份的存款:'))\n",
    "    deposit += value\n",
    "print(f'已經存夠了，存了{months}個月，存了{deposit}元')"
   ]
  }
 ],
 "metadata": {
  "kernelspec": {
   "display_name": "Python 3",
   "language": "python",
   "name": "python3"
  },
  "language_info": {
   "codemirror_mode": {
    "name": "ipython",
    "version": 3
   },
   "file_extension": ".py",
   "mimetype": "text/x-python",
   "name": "python",
   "nbconvert_exporter": "python",
   "pygments_lexer": "ipython3",
   "version": "3.10.4"
  },
  "orig_nbformat": 4
 },
 "nbformat": 4,
 "nbformat_minor": 2
}
