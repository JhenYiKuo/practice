{
 "cells": [
  {
   "cell_type": "code",
   "execution_count": 3,
   "metadata": {},
   "outputs": [
    {
     "name": "stdout",
     "output_type": "stream",
     "text": [
      "洗牌次數為 12 次\n"
     ]
    }
   ],
   "source": [
    "#計算洗牌次數(整除為洗12次)\n",
    "day1 = int(input('請輸入今天的國曆日期'))\n",
    "day2 = int(input('請輸入你的國曆生日日期'))\n",
    "\n",
    "if day1 % 12 == 0 and day2 % 12 == 0:\n",
    "    times = 24\n",
    "elif day1 % 12 == 0 or day2 % 12 == 0:\n",
    "    times = day1 % 12 + day2 % 12 + 12\n",
    "else:\n",
    "    times = day1 % 12 + day2 % 12\n",
    "\n",
    "print(f'洗牌次數為 {times} 次')"
   ]
  },
  {
   "cell_type": "code",
   "execution_count": 9,
   "metadata": {},
   "outputs": [],
   "source": [
    "#自訂fuction先執行\n",
    "\n",
    "#取卦\n",
    "def get_hexagram(num):\n",
    "    hexagram = num % 8\n",
    "    if hexagram == 1:\n",
    "        return '乾天'\n",
    "    elif hexagram == 2:\n",
    "        return '兌澤'\n",
    "    elif hexagram == 3:\n",
    "        return '離火'\n",
    "    elif hexagram == 4:\n",
    "        return '震雷'\n",
    "    elif hexagram == 5:\n",
    "        return '巽風'\n",
    "    elif hexagram == 6:\n",
    "        return '坎水'\n",
    "    elif hexagram == 7:\n",
    "        return '艮山'\n",
    "    elif hexagram == 0:\n",
    "        return '坤地'\n",
    "    \n",
    "#取動爻\n",
    "def get_change(num):\n",
    "    change = change_num % 6\n",
    "    if change == 1:\n",
    "        return '初'\n",
    "    elif change == 2:\n",
    "        return '二'\n",
    "    elif change == 3:\n",
    "        return '三'\n",
    "    elif change == 4:\n",
    "        return '四'\n",
    "    elif change == 5:\n",
    "        return '五'\n",
    "    elif change == 0:\n",
    "        return '上'\n",
    "\n",
    "#取宮位\n",
    "def get_place(num):\n",
    "    place = num % 8\n",
    "    if place == 1:\n",
    "        return '離位'\n",
    "    elif place == 2:\n",
    "        return '巽位'\n",
    "    elif place == 3:\n",
    "        return '震位'\n",
    "    elif place == 4:\n",
    "        return '艮位'\n",
    "    elif place == 5:\n",
    "        return '坤位'\n",
    "    elif place == 6:\n",
    "        return '兌位'\n",
    "    elif place == 7:\n",
    "        return '乾位'\n",
    "    elif place == 0:\n",
    "        return '坎位'"
   ]
  },
  {
   "cell_type": "code",
   "execution_count": 11,
   "metadata": {},
   "outputs": [
    {
     "name": "stdout",
     "output_type": "stream",
     "text": [
      "你的易經姓名卦，上爻為艮山、下爻為巽風，四爻動\n"
     ]
    }
   ],
   "source": [
    "#易經姓名卦\n",
    "LN = int(input('請輸入姓氏的教育部筆劃數'))\n",
    "FN1 = int(input('請輸入名字第1個字的教育部筆劃數'))\n",
    "FN2 = int(input('請輸入名字的第2個字的教育部筆劃數'))\n",
    "\n",
    "up_num = int(LN)\n",
    "down_num = int(FN1 + FN2)\n",
    "change_num = int(LN+FN1+FN2)\n",
    "\n",
    "up_hexagram = get_hexagram(up_num)\n",
    "down_hexagram = get_hexagram(down_num)\n",
    "change_hexagram = get_change(change_num)\n",
    "\n",
    "print(f'你的易經姓名卦，上爻為{up_hexagram}、下爻為{down_hexagram}，{change_hexagram}爻動')\n"
   ]
  },
  {
   "cell_type": "code",
   "execution_count": 12,
   "metadata": {},
   "outputs": [
    {
     "name": "stdout",
     "output_type": "stream",
     "text": [
      "你的數字卦，上爻為震雷、下爻為震雷，三爻動，落在震位\n"
     ]
    }
   ],
   "source": [
    "#易經數字占卜\n",
    "\n",
    "#步驟1：取2數字\n",
    "NUM1 = int(input('請在1-100間選擇第1個數字'))\n",
    "NUM2 = int(input('請在1-100間選擇第2個數字'))\n",
    "\n",
    "up_hexagram = get_hexagram(NUM2)\n",
    "down_hexagram = get_hexagram(NUM1)\n",
    "\n",
    "#步驟2：取動爻\n",
    "'''\n",
    "23點-01點(子時)輸入1\n",
    "01點-03點(丑時)輸入2\n",
    "03點-05點(寅時)輸入3\n",
    "05點-07點(卯時)輸入4\n",
    "07點-09點(辰時)輸入5\n",
    "09點-11點(巳時)輸入6\n",
    "11點-13點(午時)輸入7\n",
    "13點-15點(未時)輸入8\n",
    "15點-17點(申時)輸入9\n",
    "17點-19點(酉時)輸入10\n",
    "19點-21點(戌時)輸入11\n",
    "21點-23點(亥時)輸入12\n",
    "'''\n",
    "TIME = int(input('請輸入現在地支時間'))\n",
    "change_num = NUM1 +NUM2 +TIME\n",
    "change_hexagram = get_change(change_num)\n",
    "\n",
    "#步驟3：取八宮位\n",
    "NUM3 = int(input('請在1-100間選擇第3個數字'))\n",
    "my_place = get_place(NUM3)\n",
    "\n",
    "print(f'你的數字卦，上爻為{up_hexagram}、下爻為{down_hexagram}，{change_hexagram}爻動，落在{my_place}')"
   ]
  }
 ],
 "metadata": {
  "kernelspec": {
   "display_name": "Python 3",
   "language": "python",
   "name": "python3"
  },
  "language_info": {
   "codemirror_mode": {
    "name": "ipython",
    "version": 3
   },
   "file_extension": ".py",
   "mimetype": "text/x-python",
   "name": "python",
   "nbconvert_exporter": "python",
   "pygments_lexer": "ipython3",
   "version": "3.10.4"
  },
  "orig_nbformat": 4
 },
 "nbformat": 4,
 "nbformat_minor": 2
}
