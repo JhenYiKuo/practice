{
 "cells": [
  {
   "cell_type": "code",
   "execution_count": 3,
   "metadata": {},
   "outputs": [
    {
     "data": {
      "text/plain": [
       "[[52, 74, 69, 74, 84],\n",
       " [51, 85, 73, 53, 97],\n",
       " [95, 53, 85, 97, 58],\n",
       " [100, 89, 68, 86, 62],\n",
       " [61, 80, 67, 82, 85],\n",
       " [91, 67, 62, 54, 73],\n",
       " [68, 78, 56, 63, 62],\n",
       " [91, 51, 77, 54, 86],\n",
       " [55, 77, 92, 63, 84],\n",
       " [100, 60, 93, 78, 61],\n",
       " [70, 59, 72, 93, 83],\n",
       " [56, 59, 53, 95, 91],\n",
       " [68, 52, 100, 56, 66],\n",
       " [64, 65, 73, 88, 91],\n",
       " [52, 52, 70, 85, 57],\n",
       " [82, 62, 57, 63, 60],\n",
       " [69, 87, 71, 58, 56],\n",
       " [52, 59, 95, 70, 68],\n",
       " [53, 73, 76, 100, 66],\n",
       " [77, 85, 71, 66, 91],\n",
       " [89, 81, 69, 88, 85],\n",
       " [74, 98, 57, 95, 89],\n",
       " [85, 66, 94, 93, 59],\n",
       " [76, 98, 89, 79, 96],\n",
       " [89, 79, 100, 99, 59],\n",
       " [95, 74, 83, 85, 91],\n",
       " [62, 99, 72, 51, 65],\n",
       " [86, 61, 67, 57, 68],\n",
       " [95, 83, 53, 100, 55],\n",
       " [60, 74, 60, 91, 88],\n",
       " [75, 94, 88, 72, 75],\n",
       " [58, 77, 50, 68, 58],\n",
       " [87, 77, 87, 90, 91],\n",
       " [73, 76, 82, 78, 77],\n",
       " [78, 96, 99, 94, 67],\n",
       " [76, 54, 74, 74, 50],\n",
       " [97, 58, 75, 54, 73],\n",
       " [75, 82, 83, 67, 80],\n",
       " [94, 68, 86, 70, 93],\n",
       " [73, 81, 87, 77, 54],\n",
       " [67, 77, 54, 100, 95],\n",
       " [100, 56, 97, 56, 93],\n",
       " [69, 61, 79, 65, 80],\n",
       " [62, 94, 72, 92, 94],\n",
       " [55, 66, 97, 97, 57],\n",
       " [52, 72, 84, 58, 57],\n",
       " [81, 80, 92, 80, 50],\n",
       " [67, 57, 93, 61, 93],\n",
       " [68, 52, 62, 64, 75],\n",
       " [72, 67, 79, 61, 98]]"
      ]
     },
     "execution_count": 3,
     "metadata": {},
     "output_type": "execute_result"
    }
   ],
   "source": [
    "import random\n",
    "students = []\n",
    "for _ in range(50):\n",
    "    stu = list()\n",
    "    for _ in range(5):\n",
    "        stu.append(random.randint(50,100))\n",
    "    students.append(stu)\n",
    "students"
   ]
  },
  {
   "cell_type": "code",
   "execution_count": 8,
   "metadata": {},
   "outputs": [],
   "source": [
    "#可以儲存為.csv、.xlsx、.json、資料庫\n",
    "\n",
    "import csv\n",
    "#用open新增一個文件，叫做csv_writer_file\n",
    "csv_write_file = open('students.csv', mode='w', encoding='utf-8')\n",
    "#用csv工具箱去寫csv_writer_file的內容\n",
    "csv_writer = csv.writer(csv_write_file)\n",
    "#用實體方法新增內容\n",
    "csv_writer.writerow(['國文','英文','數學','地理','歷史'])\n",
    "csv_writer.writerows(students)\n",
    "csv_write_file.close()\n"
   ]
  }
 ],
 "metadata": {
  "kernelspec": {
   "display_name": "Python 3",
   "language": "python",
   "name": "python3"
  },
  "language_info": {
   "codemirror_mode": {
    "name": "ipython",
    "version": 3
   },
   "file_extension": ".py",
   "mimetype": "text/x-python",
   "name": "python",
   "nbconvert_exporter": "python",
   "pygments_lexer": "ipython3",
   "version": "3.10.4"
  },
  "orig_nbformat": 4
 },
 "nbformat": 4,
 "nbformat_minor": 2
}
