{
 "cells": [
  {
   "cell_type": "code",
   "execution_count": 1,
   "metadata": {},
   "outputs": [
    {
     "name": "stdout",
     "output_type": "stream",
     "text": [
      "Hello World\n"
     ]
    }
   ],
   "source": [
    "print(\"Hello World\")"
   ]
  },
  {
   "cell_type": "code",
   "execution_count": 7,
   "metadata": {},
   "outputs": [
    {
     "data": {
      "text/plain": [
       "6"
      ]
     },
     "execution_count": 7,
     "metadata": {},
     "output_type": "execute_result"
    }
   ],
   "source": [
    "#取餘數用%\n",
    "90 % 12"
   ]
  },
  {
   "cell_type": "code",
   "execution_count": 13,
   "metadata": {},
   "outputs": [
    {
     "data": {
      "text/plain": [
       "(95, 57)"
      ]
     },
     "execution_count": 13,
     "metadata": {},
     "output_type": "execute_result"
    }
   ],
   "source": [
    "# =為指令預算子，有=為建立一個變數，指定a為一個變數，裡面裝著你指定的東西\n",
    "# 動態型別，看你輸入什麼來告訴你型別\n",
    "a = 95, 57\n",
    "a"
   ]
  },
  {
   "cell_type": "code",
   "execution_count": 19,
   "metadata": {},
   "outputs": [
    {
     "data": {
      "text/plain": [
       "bool"
      ]
     },
     "execution_count": 19,
     "metadata": {},
     "output_type": "execute_result"
    }
   ],
   "source": [
    "a = 61, 95 ,75\n",
    "b = 90\n",
    "b = 90.0\n",
    "b = '98'\n",
    "b = True\n",
    "type(b)"
   ]
  },
  {
   "cell_type": "code",
   "execution_count": 54,
   "metadata": {},
   "outputs": [
    {
     "name": "stdout",
     "output_type": "stream",
     "text": [
      "<class 'float'>\n",
      "<class 'int'>\n",
      "35.8\n"
     ]
    },
    {
     "data": {
      "text/plain": [
       "8"
      ]
     },
     "execution_count": 54,
     "metadata": {},
     "output_type": "execute_result"
    }
   ],
   "source": [
    "(2**6 + (-3)) / 4\n",
    "value = 2 * (1+2) ** 2 - 2 ** 2 * 2\n",
    "type(value)\n",
    "\n",
    "#型別一樣才能相加，python自動把int轉成float\n",
    "3+3.0\n",
    "type(3+3.0)\n",
    "print(type(3+3.0))\n",
    "\n",
    "#手動轉換，數字和字串不能相加\n",
    "3+int(3.0)\n",
    "type(int(3.0)+3)\n",
    "print(type(int(3.0)+3))\n",
    "print(str(3)+'5.8')\n",
    "3 + float('5.8')\n",
    "3 + int(float('5.8'))\n",
    "\n",
    "#3 + '5.8'\n",
    "#3 + float('5.8')\n",
    "#str(3)+'5.8'"
   ]
  },
  {
   "cell_type": "code",
   "execution_count": 53,
   "metadata": {},
   "outputs": [
    {
     "data": {
      "text/plain": [
       "85"
      ]
     },
     "execution_count": 53,
     "metadata": {},
     "output_type": "execute_result"
    }
   ],
   "source": [
    "round(3.54999999)\n",
    "round(3.354999999, ndigits=2)\n",
    "abs(-85)"
   ]
  }
 ],
 "metadata": {
  "kernelspec": {
   "display_name": "Python 3",
   "language": "python",
   "name": "python3"
  },
  "language_info": {
   "codemirror_mode": {
    "name": "ipython",
    "version": 3
   },
   "file_extension": ".py",
   "mimetype": "text/x-python",
   "name": "python",
   "nbconvert_exporter": "python",
   "pygments_lexer": "ipython3",
   "version": "3.10.4"
  },
  "orig_nbformat": 4
 },
 "nbformat": 4,
 "nbformat_minor": 2
}
