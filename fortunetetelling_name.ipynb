{
 "cells": [
  {
   "cell_type": "code",
   "execution_count": 4,
   "metadata": {},
   "outputs": [
    {
     "name": "stdout",
     "output_type": "stream",
     "text": [
      "你的上格是16，五行屬土\n",
      "你的中格是20，五行屬水\n",
      "你的下格是19，五行屬水\n",
      "你的思想功能屬於水型人，思考得慢\n",
      "你的行動功能屬於水型人，行動得慢\n"
     ]
    }
   ],
   "source": [
    "#計算上中下格\n",
    "LN = int(input('請輸入姓氏的康熙筆劃數'))\n",
    "FN1 = int(input('請輸入名字第1個字的康熙筆劃數'))\n",
    "FN2 = int(input('請輸入名字的第2個字的康熙筆劃數'))\n",
    "\n",
    "up_pattern = int(1 + LN)\n",
    "mid_pattern = int(LN + FN1)\n",
    "down_pattern = int(FN1 + FN2)\n",
    "\n",
    "#使用自訂fuction判斷屬性\n",
    "def get_element(pattern):\n",
    "    five = pattern % 10\n",
    "    if five == 1 or five == 2:\n",
    "        return '木'\n",
    "    elif five == 3 or five == 4:\n",
    "        return '火'\n",
    "    elif five == 5 or five == 6:\n",
    "        return '土'\n",
    "    elif five == 7 or five == 8:\n",
    "        return '金'\n",
    "    elif five ==9 or five == 0:\n",
    "        return '水'\n",
    "\n",
    "up_element = get_element(up_pattern)\n",
    "mid_element = get_element(mid_pattern)\n",
    "down_element = get_element(down_pattern)\n",
    "\n",
    "print(f'你的上格是{up_pattern}，五行屬{up_element}')\n",
    "print(f'你的中格是{mid_pattern}，五行屬{mid_element}')\n",
    "print(f'你的下格是{down_pattern}，五行屬{down_element}')\n",
    "\n",
    "#使用自訂fuction判斷功能\n",
    "def get_mode(element1, element2):\n",
    "    if (element1, element2) in [('木','木'),('木','火'),('火','木'),('金','木'),('木','金')]:\n",
    "        return '木'\n",
    "    elif (element1, element2) in [('火','火'),('火','土'),('土','火'),('水','火'),('火','水')]:\n",
    "        return '火'\n",
    "    elif (element1, element2) in [('土','土'),('土','金'),('金','土'),('木','土'),('土','木')]:\n",
    "        return '土'\n",
    "    elif (element1, element2) in [('金','金'),('金','水'),('水','金'),('火','金'),('金','火')]:\n",
    "        return '金'\n",
    "    elif (element1, element2) in [('水','水'),('水','木'),('木','水'),('土','水'),('水','土')]:\n",
    "        return '水'\n",
    "\n",
    "think_mode = get_mode(up_element, mid_element)\n",
    "act_mode = get_mode(mid_element, down_element)\n",
    "\n",
    "def get_way(mode):\n",
    "    if mode in ['木','火']:\n",
    "        return '快'\n",
    "    elif mode in ['土','金','水']:\n",
    "        return '慢'\n",
    "\n",
    "think_way = get_way(think_mode)\n",
    "act_way =get_way(act_mode)\n",
    "\n",
    "print(f'你的思想功能屬於{think_mode}型人，思考得{think_way}')\n",
    "print(f'你的行動功能屬於{act_mode}型人，行動得{act_way}')"
   ]
  }
 ],
 "metadata": {
  "kernelspec": {
   "display_name": "Python 3",
   "language": "python",
   "name": "python3"
  },
  "language_info": {
   "codemirror_mode": {
    "name": "ipython",
    "version": 3
   },
   "file_extension": ".py",
   "mimetype": "text/x-python",
   "name": "python",
   "nbconvert_exporter": "python",
   "pygments_lexer": "ipython3",
   "version": "3.10.4"
  },
  "orig_nbformat": 4
 },
 "nbformat": 4,
 "nbformat_minor": 2
}
